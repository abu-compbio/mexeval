{
 "cells": [
  {
   "cell_type": "markdown",
   "metadata": {},
   "source": [
    "# Get percentage significance results from epistasis paper | consider 2-3% rare mutations"
   ]
  },
  {
   "cell_type": "code",
   "execution_count": 1,
   "metadata": {},
   "outputs": [],
   "source": [
    "%matplotlib inline\n",
    "import numpy as np\n",
    "import pandas as pd\n",
    "import matplotlib.pyplot as plt\n",
    "from tqdm.notebook import tqdm\n",
    "import os\n",
    "import gc\n",
    "from scipy.stats.stats import pearsonr"
   ]
  },
  {
   "cell_type": "markdown",
   "metadata": {},
   "source": [
    "## intact"
   ]
  },
  {
   "cell_type": "code",
   "execution_count": 2,
   "metadata": {},
   "outputs": [
    {
     "data": {
      "text/plain": [
       "['\"\"CHEBI', '100147744', '1B', '1EFV', '1KLA']"
      ]
     },
     "execution_count": 2,
     "metadata": {},
     "output_type": "execute_result"
    }
   ],
   "source": [
    "inpath_intact = '../mutex_data/'\n",
    "intact_edge_file = inpath_intact+'intact_nodupl_edge_file.txt'\n",
    "intact_index_file = inpath_intact+'intact_nodupl_index_file.txt'\n",
    "\n",
    "with open(intact_index_file, 'r') as f:\n",
    "    indices = {line.split()[0]:line.split()[1] for line in f.readlines()}\n",
    "\n",
    "with open(intact_edge_file, 'r') as f:\n",
    "    edges = [(indices[line.split()[0]].upper(),indices[line.split()[1]].upper()) for line in f.readlines()]\n",
    "len(edges)\n",
    "\n",
    "intact_genes_list = list(indices.values())\n",
    "intact_genes_list[:5]"
   ]
  },
  {
   "cell_type": "markdown",
   "metadata": {},
   "source": [
    "## COSMIC"
   ]
  },
  {
   "cell_type": "code",
   "execution_count": 3,
   "metadata": {},
   "outputs": [
    {
     "name": "stdout",
     "output_type": "stream",
     "text": [
      "723\n"
     ]
    }
   ],
   "source": [
    "inpath_cosmic = '../mutex_data/'\n",
    "cosmic_infile = inpath_cosmic+'Census_allFri_Apr_26_12_49_57_2019.tsv'\n",
    "with open(cosmic_infile,'r') as f:\n",
    "    cosmic_genes = [line.split()[0].upper() for line in f.readlines()[1:]]\n",
    "print(len(cosmic_genes))\n",
    "# cosmic_genes"
   ]
  },
  {
   "cell_type": "markdown",
   "metadata": {},
   "source": [
    "## Functions"
   ]
  },
  {
   "cell_type": "code",
   "execution_count": 4,
   "metadata": {},
   "outputs": [],
   "source": [
    "def set_input_file_paths(methods, c, t):\n",
    "    '''m:methods, c: cancer type, t: threshold'''\n",
    "    strat_list=['COADREAD']\n",
    "    dict_infile = {}\n",
    "    dict_infile_intact = {}\n",
    "    for m in methods:\n",
    "        if m == 'discover':\n",
    "            suffix = '{}_mutation_filtered_ep_data/{}_{}_result_mutations_all_genes_q1.0_normal_{}.txt'.format(m,c,m,t)\n",
    "            suffix_intact = '{}_mutation_filtered_ep_data/{}_pairs_q1.0_normal_intact_filtered_subset{}.txt'.format(m,c,t)\n",
    "        elif m == 'discover_strat':\n",
    "            suffix = '{}_mutation_filtered_ep_data/{}_{}_result_mutations_all_genes_q1.0_stratified_{}.txt'.format('discover',c,'discover',t)\n",
    "            suffix_intact = '{}_mutation_filtered_ep_data/{}_pairs_q1.0_stratified_intact_filtered_subset{}.txt'.format('discover',c,t)    \n",
    "        else:\n",
    "            suffix = '{}_mutation_filtered_ep_data/{}_{}_result_mutations_all_genes_{}.txt'.format(m,c,m,t)\n",
    "            suffix_intact = '{}_mutation_filtered_ep_data/{}_{}_pairs_intact_filtered_subset{}.txt'.format(m,c,m,t)\n",
    "\n",
    "        dict_infile[m] = '../mutex_data/' + suffix\n",
    "        dict_infile_intact[m] = '../mutex_data/' + suffix_intact\n",
    "    \n",
    "    return dict_infile, dict_infile_intact\n",
    "\n",
    "def get_rare_genes(c, lower_threshold=5, upper_threshold=10):\n",
    "    infile = inpath_binary + '{}_TML_binary_sm.txt'.format(c)\n",
    "    \n",
    "    df=pd.read_csv(infile, sep='\\t', index_col=0, header=0)\n",
    "    df.drop('y',1,inplace=True)\n",
    "\n",
    "\n",
    "    df.drop([col for col, val in df.sum().iteritems() if val <= lower_threshold], axis=1, inplace=True)\n",
    "    df.drop([col for col, val in df.sum().iteritems() if val > upper_threshold], axis=1, inplace=True)\n",
    "    patients = df.index.tolist()\n",
    "    rare_genes = df.columns.tolist()\n",
    "    \n",
    "    return rare_genes\n",
    "    \n",
    "def chunks(list_of_genes,n=1000):\n",
    "    \"\"\"Seperate total genes into chunks for memory issues\"\"\"\n",
    "    for i in range(0,len(list_of_genes),n):\n",
    "        yield list_of_genes[i:i+n]\n",
    "        \n",
    "def get_genes(filename):\n",
    "    \"\"\"get all genes\"\"\"\n",
    "    with open(filename, 'r') as f:\n",
    "        genes = set()\n",
    "        for line in tqdm(f.readlines()[1:],desc='Counting total Genes'):\n",
    "            genes.update(line.strip().split('\\t')[1:3])\n",
    "\n",
    "    return list(genes)   \n",
    "\n",
    "def get_neighbors(genes, ref_edges):\n",
    "    \"\"\"create a dictionary of neighbors of genes\"\"\"\n",
    "    dict_neighbors = {}\n",
    "    for g1,g2 in ref_edges:\n",
    "        if g1 in genes and g2 in genes:\n",
    "            if g1 not in dict_neighbors:\n",
    "                dict_neighbors[g1] = set()\n",
    "            if g2 not in dict_neighbors:\n",
    "                dict_neighbors[g2] = set()\n",
    "\n",
    "            dict_neighbors[g1].update([g2])\n",
    "            dict_neighbors[g2].update([g1])\n",
    "\n",
    "    return dict_neighbors\n",
    "\n",
    "def get_sig_dict(d, sig_threshold=0.05):\n",
    "    '''get significant percentage'''\n",
    "    d_sig={}\n",
    "    for g1 in d:\n",
    "        count=0\n",
    "        for g2, p in d[g1].items():\n",
    "            if p<sig_threshold:\n",
    "                count+=1\n",
    "        d_sig[g1] = float(count)/float(len(d[g1]))\n",
    "    \n",
    "    return d_sig\n",
    "\n",
    "def get_sig_scores(infile, reference_genes=cosmic_genes, ref_edges=edges):\n",
    "    '''\n",
    "    types:\n",
    "    1. all combinations\n",
    "    2. cosmic-any gene combinations\n",
    "    3. cosmic-cosmic genes out of all combinations\n",
    "    4. cosmic-noncosmic genes out of all combinations\n",
    "\n",
    "    When intact_file is used:\n",
    "    5. all neighbor combinations\n",
    "    6. all cosmic-neighbor combinations\n",
    "    7. all cosmic-cosmic neighbor combinaitons\n",
    "    8. all cosmic-noncosmic neighbor combinaitons\n",
    "    \n",
    "    plus counts'''\n",
    "    \n",
    "    dict_main = {}\n",
    "    dict_cg_any = {}\n",
    "    dict_cg_cg = {}\n",
    "    dict_cg_ncg = {}\n",
    "    \n",
    "    count_main = 0\n",
    "    count_cg_any = 0\n",
    "    count_cg_cg = 0\n",
    "    count_cg_ncg = 0\n",
    "\n",
    "    \n",
    "    with open(infile) as f:\n",
    "        lines = f.readlines()[1:]\n",
    "        \n",
    "    count_main = len(lines)\n",
    "    \n",
    "    for line in tqdm(lines):\n",
    "        line=line.split()\n",
    "\n",
    "        g1 = line[1]\n",
    "        g2 = line[2]\n",
    "        pval = float(line[3])\n",
    "\n",
    "        ##for all neighbors\n",
    "        if g1 not in dict_main:\n",
    "            dict_main[g1]={}\n",
    "        if g2 not in dict_main:\n",
    "            dict_main[g2]={}\n",
    "\n",
    "        if g2 not in dict_main[g1]:\n",
    "            dict_main[g1][g2]=pval\n",
    "        if g1 not in dict_main[g2]:\n",
    "            dict_main[g2][g1]=pval\n",
    "\n",
    "        \n",
    "        # for cg any gene\n",
    "        truth_check1=False\n",
    "        if g1 in reference_genes:\n",
    "            truth_check1=True\n",
    "            if g2 not in dict_cg_any:\n",
    "                dict_cg_any[g2]={}\n",
    "            if g1 not in dict_cg_any[g2]:\n",
    "                dict_cg_any[g2][g1]=pval\n",
    "\n",
    "        if g2 in reference_genes:\n",
    "            truth_check1=True\n",
    "            if g1 not in dict_cg_any:\n",
    "                dict_cg_any[g1]={}\n",
    "            if g2 not in dict_cg_any[g1]:\n",
    "                dict_cg_any[g1][g2]=pval\n",
    "        \n",
    "        if truth_check1==True:\n",
    "            count_cg_any+=1\n",
    "\n",
    "        # for cg cg pairs\n",
    "        if g1 in reference_genes and g2 in reference_genes:\n",
    "            count_cg_cg+=1\n",
    "            if g1 not in dict_cg_cg:\n",
    "                dict_cg_cg[g1]={}\n",
    "            if g2 not in dict_cg_cg:\n",
    "                dict_cg_cg[g2]={}\n",
    "\n",
    "            if g2 not in dict_cg_cg[g1]:\n",
    "                dict_cg_cg[g1][g2]=pval\n",
    "            if g1 not in dict_cg_cg[g2]:\n",
    "                dict_cg_cg[g2][g1]=pval\n",
    "                \n",
    "        # for cg ncg gene\n",
    "        truth_check2=False\n",
    "        if g1 not in reference_genes and g2 in reference_genes:\n",
    "            truth_check2=True\n",
    "            if g2 not in dict_cg_ncg:\n",
    "                dict_cg_ncg[g2]={}\n",
    "            if g1 not in dict_cg_ncg[g2]:\n",
    "                dict_cg_ncg[g2][g1]=pval\n",
    "\n",
    "        if g2 not in reference_genes and g1 in reference_genes:\n",
    "            truth_check2=True\n",
    "            if g1 not in dict_cg_ncg:\n",
    "                dict_cg_ncg[g1]={}\n",
    "            if g2 not in dict_cg_ncg[g1]:\n",
    "                dict_cg_ncg[g1][g2]=pval\n",
    "        \n",
    "        if truth_check2==True:\n",
    "            count_cg_ncg+=1\n",
    "        \n",
    "    dict_main_sig = get_sig_dict(dict_main)\n",
    "    dict_cg_any_sig = get_sig_dict(dict_cg_any)\n",
    "    dict_cg_cg_sig = get_sig_dict(dict_cg_cg)\n",
    "    dict_cg_ncg_sig = get_sig_dict(dict_cg_ncg)\n",
    "    \n",
    "    \n",
    "        \n",
    "    return dict_main_sig,dict_cg_any_sig,dict_cg_cg_sig,dict_cg_ncg_sig, count_main,count_cg_any, count_cg_cg, count_cg_ncg\n",
    "\n",
    "def get_sig_scores_all_cosmic(infile, reference_genes=cosmic_genes, ref_edges=edges):\n",
    "    '''similar to get_sig function but considering all cosmic cosmic pairs'''\n",
    "    \n",
    "    dict_nb = {}  \n",
    "    \n",
    "    with open(infile) as f:\n",
    "        for line in tqdm(f.readlines()[1:]):\n",
    "            line=line.split()\n",
    "            \n",
    "            g1 = line[1]\n",
    "            g2 = line[2]\n",
    "            pval = float(line[3])\n",
    "            \n",
    "            ## wext correction\n",
    "            if m =='wext' and pval==0:\n",
    "                pval=1.0\n",
    "            \n",
    "            \n",
    "            if g1 in reference_genes and g2 in reference_genes:\n",
    "                ##for all neighbors\n",
    "                if g1 not in dict_nb:\n",
    "                    dict_nb[g1]={}\n",
    "                if g2 not in dict_nb:\n",
    "                    dict_nb[g2]={}\n",
    "\n",
    "                if g2 not in dict_nb[g1]:\n",
    "                    dict_nb[g1][g2]=pval\n",
    "                if g1 not in dict_nb[g2]:\n",
    "                    dict_nb[g2][g1]=pval\n",
    "                  \n",
    "    \n",
    "    dict_nb_sig = get_sig_dict(dict_nb)\n",
    "    \n",
    "        \n",
    "    return dict_nb_sig\n",
    "\n",
    "def get_pval_dict(infile, ref_genes=cosmic_genes):\n",
    "    '''get dict with pairwise p-values'''\n",
    "    d={}\n",
    "    with open(infile) as f:\n",
    "        lines=f.readlines()[1:]\n",
    "        \n",
    "        for line in tqdm(lines):\n",
    "            line=line.split()\n",
    "            g1=line[1]\n",
    "            g2=line[2]\n",
    "            \n",
    "#             if g1 in cosmic_genes and g2 in cosmic_genes:\n",
    "            d[(g1,g2)] = float(line[3])\n",
    "                \n",
    "    return d\n",
    "\n",
    "# def plot_from_dict(d, d_mla,ax, rare_genes, annotation_threshold_y=0.6,annotation_threhsold_x=2,title=''):\n",
    "#     '''plot function'''\n",
    "#     l_mla_all = []\n",
    "#     l_sig_all = []\n",
    "    \n",
    "#     l_mla_nonrare = []\n",
    "#     l_sig_nonrare = []\n",
    "    \n",
    "#     l_mla_rare = []\n",
    "#     l_sig_rare = []\n",
    "    \n",
    "#     for k,v in d.items():\n",
    "#         if k in d_mla:\n",
    "#             l_mla_all.append(d_mla[k])\n",
    "#             l_sig_all.append(v)\n",
    "            \n",
    "#             if k not in rare_genes:\n",
    "#                 l_mla_nonrare.append(d_mla[k])\n",
    "#                 l_sig_nonrare.append(v)\n",
    "#             else:\n",
    "#                 l_mla_rare.append(d_mla[k])\n",
    "#                 l_sig_rare.append(v)\n",
    "                \n",
    "#     ax.scatter(l_mla_nonrare,l_sig_nonrare, c='C0',alpha=0.3)\n",
    "#     ax.scatter(l_mla_rare,l_sig_rare, c='C3',alpha=0.3)\n",
    "    \n",
    "#     r,p = pearsonr(l_mla_all,l_sig_all)\n",
    "#     print('r:{}\\nP:{}'.format(r,p))\n",
    "#     ax.text(0.85, 0.97, 'r = {}\\nP = {:.3g}'.format(round(r,2), p), ha='left', va='top', fontsize=8,transform=ax.transAxes)\n",
    "    \n",
    "#     for k,v in d.items():\n",
    "#         if v>annotation_threshold_y and d_mla[k]<annotation_threhsold_x:\n",
    "#             ax.annotate(k, (d_mla[k],v))\n",
    "            \n",
    "            \n",
    "#     ax.set_xlabel('MLA')\n",
    "#     ax.set_ylabel('Percentage of Significant Findings (P<0.05)')\n",
    "#     ax.set_title(title)# + '| {} total genes, {} rare, {} nonrare'.format(len(l_sig_all), len(l_sig_rare),len(l_sig_nonrare)) )\n",
    "#     ax.set_ylim(-0.05,1.05)\n",
    "    \n",
    "        \n",
    "def write_sig_dict(d, outfile):\n",
    "    '''write significance values to file'''\n",
    "    with open(outfile,'w') as f:\n",
    "        for k,v in sorted(d.items()):\n",
    "            f.write('{}\\t{}\\n'.format(k,v))\n",
    "    \n",
    "    \n",
    "\n",
    "            "
   ]
  },
  {
   "cell_type": "code",
   "execution_count": 5,
   "metadata": {
    "scrolled": false
   },
   "outputs": [
    {
     "name": "stdout",
     "output_type": "stream",
     "text": [
      "COADREAD\n",
      "5558\n"
     ]
    },
    {
     "data": {
      "application/vnd.jupyter.widget-view+json": {
       "model_id": "4819d6a250c0425aba4be641af5f7546",
       "version_major": 2,
       "version_minor": 0
      },
      "text/plain": [
       "HBox(children=(FloatProgress(value=0.0, max=4.0), HTML(value='')))"
      ]
     },
     "metadata": {},
     "output_type": "display_data"
    },
    {
     "data": {
      "application/vnd.jupyter.widget-view+json": {
       "model_id": "d425d67b39fe4a6d8944915a096e7193",
       "version_major": 2,
       "version_minor": 0
      },
      "text/plain": [
       "HBox(children=(FloatProgress(value=0.0, max=959805.0), HTML(value='')))"
      ]
     },
     "metadata": {},
     "output_type": "display_data"
    },
    {
     "name": "stdout",
     "output_type": "stream",
     "text": [
      "\n"
     ]
    },
    {
     "data": {
      "application/vnd.jupyter.widget-view+json": {
       "model_id": "58a4e6f640724e77a0b299a88110a27d",
       "version_major": 2,
       "version_minor": 0
      },
      "text/plain": [
       "HBox(children=(FloatProgress(value=0.0, max=689.0), HTML(value='')))"
      ]
     },
     "metadata": {},
     "output_type": "display_data"
    },
    {
     "name": "stdout",
     "output_type": "stream",
     "text": [
      "\n"
     ]
    },
    {
     "data": {
      "application/vnd.jupyter.widget-view+json": {
       "model_id": "ba13d36c9dba48eca18f59702adae6b3",
       "version_major": 2,
       "version_minor": 0
      },
      "text/plain": [
       "HBox(children=(FloatProgress(value=0.0, max=959805.0), HTML(value='')))"
      ]
     },
     "metadata": {},
     "output_type": "display_data"
    },
    {
     "ename": "KeyboardInterrupt",
     "evalue": "",
     "output_type": "error",
     "traceback": [
      "\u001b[1;31m---------------------------------------------------------------------------\u001b[0m",
      "\u001b[1;31mKeyboardInterrupt\u001b[0m                         Traceback (most recent call last)",
      "\u001b[1;32m<ipython-input-5-fb3325e4c56e>\u001b[0m in \u001b[0;36m<module>\u001b[1;34m\u001b[0m\n\u001b[0;32m     54\u001b[0m \u001b[1;32mfor\u001b[0m \u001b[0mm\u001b[0m \u001b[1;32min\u001b[0m \u001b[0mtqdm\u001b[0m\u001b[1;33m(\u001b[0m\u001b[0mmethods\u001b[0m\u001b[1;33m)\u001b[0m\u001b[1;33m:\u001b[0m\u001b[1;33m\u001b[0m\u001b[1;33m\u001b[0m\u001b[0m\n\u001b[0;32m     55\u001b[0m     \u001b[0mdict_main\u001b[0m\u001b[1;33m[\u001b[0m\u001b[0mm\u001b[0m\u001b[1;33m]\u001b[0m\u001b[1;33m,\u001b[0m \u001b[0mdict_cg_any\u001b[0m\u001b[1;33m[\u001b[0m\u001b[0mm\u001b[0m\u001b[1;33m]\u001b[0m\u001b[1;33m,\u001b[0m\u001b[0mdict_cg_cg\u001b[0m\u001b[1;33m[\u001b[0m\u001b[0mm\u001b[0m\u001b[1;33m]\u001b[0m\u001b[1;33m,\u001b[0m\u001b[0mdict_cg_ncg\u001b[0m\u001b[1;33m[\u001b[0m\u001b[0mm\u001b[0m\u001b[1;33m]\u001b[0m\u001b[1;33m,\u001b[0m\u001b[0mcount_main\u001b[0m\u001b[1;33m[\u001b[0m\u001b[0mm\u001b[0m\u001b[1;33m]\u001b[0m\u001b[1;33m,\u001b[0m \u001b[0mcount_cg_any\u001b[0m\u001b[1;33m[\u001b[0m\u001b[0mm\u001b[0m\u001b[1;33m]\u001b[0m\u001b[1;33m,\u001b[0m\u001b[0mcount_cg_cg\u001b[0m\u001b[1;33m[\u001b[0m\u001b[0mm\u001b[0m\u001b[1;33m]\u001b[0m\u001b[1;33m,\u001b[0m\u001b[0;31m\\\u001b[0m\u001b[1;33m\u001b[0m\u001b[1;33m\u001b[0m\u001b[0m\n\u001b[1;32m---> 56\u001b[1;33m     \u001b[0mcount_cg_ncg\u001b[0m\u001b[1;33m[\u001b[0m\u001b[0mm\u001b[0m\u001b[1;33m]\u001b[0m \u001b[1;33m=\u001b[0m \u001b[0mget_sig_scores\u001b[0m\u001b[1;33m(\u001b[0m\u001b[0mdict_infile\u001b[0m\u001b[1;33m[\u001b[0m\u001b[0mm\u001b[0m\u001b[1;33m]\u001b[0m\u001b[1;33m)\u001b[0m\u001b[1;33m\u001b[0m\u001b[1;33m\u001b[0m\u001b[0m\n\u001b[0m\u001b[0;32m     57\u001b[0m \u001b[1;33m\u001b[0m\u001b[0m\n\u001b[0;32m     58\u001b[0m     \u001b[0mdict_nb\u001b[0m\u001b[1;33m[\u001b[0m\u001b[0mm\u001b[0m\u001b[1;33m]\u001b[0m\u001b[1;33m,\u001b[0m \u001b[0mdict_cg_nb\u001b[0m\u001b[1;33m[\u001b[0m\u001b[0mm\u001b[0m\u001b[1;33m]\u001b[0m\u001b[1;33m,\u001b[0m\u001b[0mdict_cgcg_nb\u001b[0m\u001b[1;33m[\u001b[0m\u001b[0mm\u001b[0m\u001b[1;33m]\u001b[0m\u001b[1;33m,\u001b[0m\u001b[0mdict_cgncg_nb\u001b[0m\u001b[1;33m[\u001b[0m\u001b[0mm\u001b[0m\u001b[1;33m]\u001b[0m\u001b[1;33m,\u001b[0m\u001b[0mcount_nb\u001b[0m\u001b[1;33m[\u001b[0m\u001b[0mm\u001b[0m\u001b[1;33m]\u001b[0m\u001b[1;33m,\u001b[0m \u001b[0mcount_cg_nb\u001b[0m\u001b[1;33m[\u001b[0m\u001b[0mm\u001b[0m\u001b[1;33m]\u001b[0m\u001b[1;33m,\u001b[0m\u001b[0mcount_cgcg_nb\u001b[0m\u001b[1;33m[\u001b[0m\u001b[0mm\u001b[0m\u001b[1;33m]\u001b[0m\u001b[1;33m,\u001b[0m\u001b[0;31m\\\u001b[0m\u001b[1;33m\u001b[0m\u001b[1;33m\u001b[0m\u001b[0m\n",
      "\u001b[1;32m<ipython-input-4-8feb717d97d4>\u001b[0m in \u001b[0;36mget_sig_scores\u001b[1;34m(infile, reference_genes, ref_edges)\u001b[0m\n\u001b[0;32m    142\u001b[0m                 \u001b[0mdict_cg_any\u001b[0m\u001b[1;33m[\u001b[0m\u001b[0mg1\u001b[0m\u001b[1;33m]\u001b[0m\u001b[1;33m[\u001b[0m\u001b[0mg2\u001b[0m\u001b[1;33m]\u001b[0m\u001b[1;33m=\u001b[0m\u001b[0mpval\u001b[0m\u001b[1;33m\u001b[0m\u001b[1;33m\u001b[0m\u001b[0m\n\u001b[0;32m    143\u001b[0m \u001b[1;33m\u001b[0m\u001b[0m\n\u001b[1;32m--> 144\u001b[1;33m         \u001b[1;32mif\u001b[0m \u001b[0mtruth_check1\u001b[0m\u001b[1;33m==\u001b[0m\u001b[1;32mTrue\u001b[0m\u001b[1;33m:\u001b[0m\u001b[1;33m\u001b[0m\u001b[1;33m\u001b[0m\u001b[0m\n\u001b[0m\u001b[0;32m    145\u001b[0m             \u001b[0mcount_cg_any\u001b[0m\u001b[1;33m+=\u001b[0m\u001b[1;36m1\u001b[0m\u001b[1;33m\u001b[0m\u001b[1;33m\u001b[0m\u001b[0m\n\u001b[0;32m    146\u001b[0m \u001b[1;33m\u001b[0m\u001b[0m\n",
      "\u001b[1;31mKeyboardInterrupt\u001b[0m: "
     ]
    }
   ],
   "source": [
    "methods = ['discover', 'discover_strat', 'fishers', 'wext']#'discover_strat',\n",
    "# cancer_types = ['BRCA']#['BLCA', 'BRCA', 'COADREAD', 'LUAD', 'LUSC', 'SKCM', 'STAD', 'UCEC']\n",
    "t=20\n",
    "c = 'COADREAD'\n",
    "#input file path\n",
    "# dict_inpath = {'discover': '../../version y - DISCOVER orig/',\n",
    "#                'discover_strat': '../../version y - DISCOVER orig/',\n",
    "#                'fishers': '../../version yi - FISHERS EXACT/',\n",
    "#                'megsa': '../../version yiii - MEGSA/',\n",
    "#                'memo': '../../version yii - MEMO/memo/',\n",
    "#                'wext': '../../version yiv - WEXT/'\n",
    "#               }\n",
    "\n",
    "inpath_mla = '../mutex_data/'\n",
    "inpath_binary = '../mutex_data/binary_matrices_all_genes_ep_mutation_filtered/'\n",
    "\n",
    "\n",
    "\n",
    "## Main\n",
    "\n",
    "\n",
    "print(c)\n",
    "dict_infile, dict_infile_intact = set_input_file_paths(methods,c,t)\n",
    "\n",
    "rare_genes = get_rare_genes(c)\n",
    "print(len(rare_genes))\n",
    "\n",
    "\n",
    "MLA_infile = inpath_mla + 'MLA_ep_mutation_filtered_all_genes/{}_MLA_standardized.txt'.format(c)\n",
    "with open(MLA_infile, 'r') as f:\n",
    "    MLA = {line.split()[0]: float(line.split()[1]) for line in f.readlines()}\n",
    "\n",
    "\n",
    "dict_main={}\n",
    "dict_cg_any = {}\n",
    "dict_cg_cg={}\n",
    "dict_cg_ncg={}\n",
    "\n",
    "dict_nb={}\n",
    "dict_cg_nb = {}\n",
    "dict_cgcg_nb={}\n",
    "dict_cgncg_nb={}\n",
    "\n",
    "count_main={}\n",
    "count_cg_any = {}\n",
    "count_cg_cg={}\n",
    "count_cg_ncg={}\n",
    "\n",
    "count_nb={}\n",
    "count_cg_nb = {}\n",
    "count_cgcg_nb={}\n",
    "count_cgncg_nb={}\n",
    "\n",
    "for m in tqdm(methods):\n",
    "    dict_main[m], dict_cg_any[m],dict_cg_cg[m],dict_cg_ncg[m],count_main[m], count_cg_any[m],count_cg_cg[m],\\\n",
    "    count_cg_ncg[m] = get_sig_scores(dict_infile[m])\n",
    "    \n",
    "    dict_nb[m], dict_cg_nb[m],dict_cgcg_nb[m],dict_cgncg_nb[m],count_nb[m], count_cg_nb[m],count_cgcg_nb[m],\\\n",
    "    count_cgncg_nb[m] = get_sig_scores(dict_infile_intact[m])\n",
    "#         dict_nb, dict_cg_nb, dict_cgcg_nb = get_sig_scores(dict_infile_intact[m])\n",
    "#             dict_nb_sig_rare = {k:v for k,v in dict_nb_sig.items() if k in rare_genes}\n",
    "#             dict_cg_nb_sig_rare = {k:v for k,v in dict_cg_nb_sig.items() if k in rare_genes}\n",
    "#             dict_cgcg_nb_sig_rare = {k:v for k,v in dict_cgcg_nb_sig.items() if k in rare_genes}\n",
    "\n",
    "\n",
    "    "
   ]
  },
  {
   "cell_type": "code",
   "execution_count": 6,
   "metadata": {},
   "outputs": [
    {
     "data": {
      "text/plain": [
       "dict_keys(['discover'])"
      ]
     },
     "execution_count": 6,
     "metadata": {},
     "output_type": "execute_result"
    }
   ],
   "source": [
    "dict_cg_nb.keys()"
   ]
  },
  {
   "cell_type": "code",
   "execution_count": 7,
   "metadata": {},
   "outputs": [],
   "source": [
    "#save_results\n",
    "outpath_main = '../results_main/evaluation_results/significance_files/{}_t{}/'.format(c,t)\n",
    "\n",
    "if not os.path.exists(outpath_main):\n",
    "    os.makedirs(outpath_main)\n",
    "    \n",
    "for m in methods:\n",
    "    write_sig_dict(dict_main[m],outfile=outpath_main+'{}_{}_t{}_percsig_all_pairs.txt'.format(m,c,t))\n",
    "    write_sig_dict(dict_cg_any[m],outfile=outpath_main+'{}_{}_t{}_percsig_cg_any_pairs.txt'.format(m,c,t))\n",
    "    write_sig_dict(dict_cg_cg[m],outfile=outpath_main+'{}_{}_t{}_percsig_cg_cg_pairs.txt'.format(m,c,t))\n",
    "    write_sig_dict(dict_cg_ncg[m],outfile=outpath_main+'{}_{}_t{}_percsig_cg_ncg_pairs.txt'.format(m,c,t))\n",
    "    \n",
    "    write_sig_dict(dict_nb[m],outfile=outpath_main+'{}_{}_t{}_percsig_all_nb_pairs.txt'.format(m,c,t))\n",
    "    write_sig_dict(dict_cg_nb[m],outfile=outpath_main+'{}_{}_t{}_percsig_cg_nb_pairs.txt'.format(m,c,t))\n",
    "    write_sig_dict(dict_cgcg_nb[m],outfile=outpath_main+'{}_{}_t{}_percsig_cg_cg_nb_pairs.txt'.format(m,c,t))\n",
    "    write_sig_dict(dict_cgncg_nb[m],outfile=outpath_main+'{}_{}_t{}_percsig_cg_ncg_nb_pairs.txt'.format(m,c,t))\n",
    "    \n",
    "    with open(outpath_main+'{}_{}_t{}_pair_counts.txt'.format(m,c,t), 'w') as f:\n",
    "        f.write('{}\\t{}\\n'.format('count_main',count_main[m]))\n",
    "        f.write('{}\\t{}\\n'.format('count_cg_any',count_cg_any[m]))\n",
    "        f.write('{}\\t{}\\n'.format('count_cg_cg',count_cg_cg[m]))\n",
    "        f.write('{}\\t{}\\n'.format('count_cg_ncg',count_cg_ncg[m]))\n",
    "        \n",
    "        f.write('{}\\t{}\\n'.format('count_nb',count_nb[m]))\n",
    "        f.write('{}\\t{}\\n'.format('count_cg_nb',count_cg_nb[m]))\n",
    "        f.write('{}\\t{}\\n'.format('count_cgcg_nb',count_cgcg_nb[m]))\n",
    "        f.write('{}\\t{}\\n'.format('count_cgncg_nb',count_cgncg_nb[m]))\n",
    "        "
   ]
  },
  {
   "cell_type": "code",
   "execution_count": null,
   "metadata": {},
   "outputs": [],
   "source": []
  }
 ],
 "metadata": {
  "kernelspec": {
   "display_name": "Python 3",
   "language": "python",
   "name": "python3"
  },
  "language_info": {
   "codemirror_mode": {
    "name": "ipython",
    "version": 3
   },
   "file_extension": ".py",
   "mimetype": "text/x-python",
   "name": "python",
   "nbconvert_exporter": "python",
   "pygments_lexer": "ipython3",
   "version": "3.6.7"
  }
 },
 "nbformat": 4,
 "nbformat_minor": 2
}
